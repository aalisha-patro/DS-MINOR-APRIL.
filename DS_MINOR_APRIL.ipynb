{
  "nbformat": 4,
  "nbformat_minor": 0,
  "metadata": {
    "colab": {
      "name": "DS MINOR APRIL.ipynb",
      "provenance": [],
      "collapsed_sections": []
    },
    "kernelspec": {
      "display_name": "Python 3",
      "name": "python3"
    },
    "language_info": {
      "name": "python"
    },
    "accelerator": "GPU"
  },
  "cells": [
    {
      "cell_type": "code",
      "metadata": {
        "colab": {
          "base_uri": "https://localhost:8080/"
        },
        "id": "rvlPvJHWmlKd",
        "outputId": "ef164155-fc2c-4ee0-e46e-d2faf487baf6"
      },
      "source": [
        "import os\n",
        "import numpy as np\n",
        "import pandas as pd\n",
        "import matplotlib.pyplot as plt\n",
        "from skimage.io import imread\n",
        "from skimage.transform import resize\n",
        "\n",
        "datadir = '/content/drive/MyDrive/data verzeo/images'\n",
        "\n",
        "categories = ['elephant','horse'] \n",
        "target = []\n",
        "flat_data = []\n",
        "images=[]\n",
        "\n",
        "for i in categories:\n",
        "  class_num=categories.index(i)\n",
        "  path = os.path.join(datadir,i)\n",
        " \n",
        "  for img in os.listdir(path):\n",
        "    print(img)\n",
        "    img_array = imread(os.path.join(path,img))\n",
        "    \n",
        "    img_resize = resize(img_array,(150,150,3))\n",
        "     \n",
        "    flat_data.append(img_resize.flatten())\n",
        "    images.append(img_resize)\n",
        "    target.append(class_num)\n",
        "   \n",
        "flat_data = np.array(flat_data)\n",
        "target = np.array(target)"
      ],
      "execution_count": 1,
      "outputs": [
        {
          "output_type": "stream",
          "text": [
            "WW187785.jpg\n",
            "file-20180803-41366-8x4waf.jfif\n",
            "Asian_Elephants_WW252891.jpg\n",
            "download.jfif\n",
            "download (1).jfif\n",
            "download (2).jfif\n",
            "download (3).jfif\n",
            "download (4).jfif\n",
            "download (5).jfif\n",
            "download (6).jfif\n",
            "download (7).jfif\n",
            "download (8).jfif\n",
            "images.jfif\n",
            "images (1).jfif\n",
            "images (2).jfif\n",
            "images (3).jfif\n",
            "images (4).jfif\n",
            "images (5).jfif\n",
            "images (6).jfif\n",
            "images (7).jfif\n",
            "images (8).jfif\n",
            "download (9).jfif\n",
            "download.jfif\n",
            "download (1).jfif\n",
            "download (2).jfif\n",
            "download (3).jfif\n",
            "download (4).jfif\n",
            "download (5).jfif\n",
            "download (6).jfif\n",
            "download (7).jfif\n",
            "download (8).jfif\n",
            "images.jfif\n",
            "images (1).jfif\n",
            "images (2).jfif\n",
            "images (3).jfif\n",
            "images (4).jfif\n",
            "images (5).jfif\n",
            "download (10).jfif\n",
            "download (11).jfif\n",
            "images (6).jfif\n",
            "images (7).jfif\n"
          ],
          "name": "stdout"
        }
      ]
    },
    {
      "cell_type": "code",
      "metadata": {
        "id": "GNtniGwh8iJs"
      },
      "source": [
        ""
      ],
      "execution_count": 1,
      "outputs": []
    },
    {
      "cell_type": "code",
      "metadata": {
        "colab": {
          "base_uri": "https://localhost:8080/",
          "height": 282
        },
        "id": "a9qo4k3y8kpt",
        "outputId": "d25dec26-6cc1-4069-f320-101260d5494c"
      },
      "source": [
        "unique,count =np.unique(target,return_counts=True)\n",
        "plt.bar(categories,count)"
      ],
      "execution_count": 2,
      "outputs": [
        {
          "output_type": "execute_result",
          "data": {
            "text/plain": [
              "<BarContainer object of 2 artists>"
            ]
          },
          "metadata": {
            "tags": []
          },
          "execution_count": 2
        },
        {
          "output_type": "display_data",
          "data": {
            "image/png": "[encoded data removed]",
            "text/plain": [
              "<Figure size 432x288 with 1 Axes>"
            ]
          },
          "metadata": {
            "tags": [],
            "needs_background": "light"
          }
        }
      ]
    },
    {
      "cell_type": "code",
      "metadata": {
        "id": "mbNtpaO_9MQV"
      },
      "source": [
        "from sklearn.model_selection import train_test_split\n",
        "x_train,x_test,y_train,y_test=train_test_split(flat_data,target,test_size=0.3,random_state=105)"
      ],
      "execution_count": 3,
      "outputs": []
    },
    {
      "cell_type": "code",
      "metadata": {
        "colab": {
          "base_uri": "https://localhost:8080/"
        },
        "id": "4wSiOVhB8ty-",
        "outputId": "7fd5a5f2-9c6f-4ff4-efdb-c46c81acf0bd"
      },
      "source": [
        "from sklearn.model_selection import GridSearchCV\n",
        "from sklearn import svm\n",
        "param_grid=[\n",
        "            {'C':[1,10,100,1000],'kernel':['linear']},\n",
        "            {'C':[1,10,100,1000],'gamma':[0.001,0.0001],'kernel':['rbf']},\n",
        "            ]\n",
        "svc=svm.SVC(probability=True)\n",
        "clf=GridSearchCV(svc,param_grid)\n",
        "clf.fit(x_train,y_train)"
      ],
      "execution_count": 4,
      "outputs": [
        {
          "output_type": "execute_result",
          "data": {
            "text/plain": [
              "GridSearchCV(cv=None, error_score=nan,\n",
              "             estimator=SVC(C=1.0, break_ties=False, cache_size=200,\n",
              "                           class_weight=None, coef0=0.0,\n",
              "                           decision_function_shape='ovr', degree=3,\n",
              "                           gamma='scale', kernel='rbf', max_iter=-1,\n",
              "                           probability=True, random_state=None, shrinking=True,\n",
              "                           tol=0.001, verbose=False),\n",
              "             iid='deprecated', n_jobs=None,\n",
              "             param_grid=[{'C': [1, 10, 100, 1000], 'kernel': ['linear']},\n",
              "                         {'C': [1, 10, 100, 1000], 'gamma': [0.001, 0.0001],\n",
              "                          'kernel': ['rbf']}],\n",
              "             pre_dispatch='2*n_jobs', refit=True, return_train_score=False,\n",
              "             scoring=None, verbose=0)"
            ]
          },
          "metadata": {
            "tags": []
          },
          "execution_count": 4
        }
      ]
    },
    {
      "cell_type": "code",
      "metadata": {
        "colab": {
          "base_uri": "https://localhost:8080/"
        },
        "id": "-sKWm46g_uxo",
        "outputId": "8dd7080d-6377-480d-a974-a738770e6a9d"
      },
      "source": [
        "y_pred=clf.predict(x_test)\n",
        "y_pred"
      ],
      "execution_count": 5,
      "outputs": [
        {
          "output_type": "execute_result",
          "data": {
            "text/plain": [
              "array([0, 1, 1, 0, 0, 1, 1, 1, 1, 1, 0, 1, 0])"
            ]
          },
          "metadata": {
            "tags": []
          },
          "execution_count": 5
        }
      ]
    },
    {
      "cell_type": "code",
      "metadata": {
        "colab": {
          "base_uri": "https://localhost:8080/"
        },
        "id": "_rJUB-p8ATy8",
        "outputId": "f5ad6ee0-5a7f-4322-bc38-4ac4b650a2b8"
      },
      "source": [
        "y_test"
      ],
      "execution_count": 6,
      "outputs": [
        {
          "output_type": "execute_result",
          "data": {
            "text/plain": [
              "array([0, 1, 0, 0, 0, 1, 0, 1, 1, 1, 0, 1, 0])"
            ]
          },
          "metadata": {
            "tags": []
          },
          "execution_count": 6
        }
      ]
    },
    {
      "cell_type": "code",
      "metadata": {
        "id": "PUCPHhRXAYwJ"
      },
      "source": [
        "from sklearn.metrics import accuracy_score,confusion_matrix "
      ],
      "execution_count": 7,
      "outputs": []
    },
    {
      "cell_type": "code",
      "metadata": {
        "colab": {
          "base_uri": "https://localhost:8080/"
        },
        "id": "3Mm26o7UAv1a",
        "outputId": "8034be96-2398-49b7-a7ae-b22bce32c765"
      },
      "source": [
        "accuracy_score(y_pred,y_test)"
      ],
      "execution_count": 8,
      "outputs": [
        {
          "output_type": "execute_result",
          "data": {
            "text/plain": [
              "0.8461538461538461"
            ]
          },
          "metadata": {
            "tags": []
          },
          "execution_count": 8
        }
      ]
    },
    {
      "cell_type": "code",
      "metadata": {
        "colab": {
          "base_uri": "https://localhost:8080/"
        },
        "id": "zRGsDAtHAkJT",
        "outputId": "512b13fc-d17f-4331-f6fc-8d94b96f552c"
      },
      "source": [
        "confusion_matrix(y_pred,y_test)"
      ],
      "execution_count": 9,
      "outputs": [
        {
          "output_type": "execute_result",
          "data": {
            "text/plain": [
              "array([[5, 0],\n",
              "       [2, 6]])"
            ]
          },
          "metadata": {
            "tags": []
          },
          "execution_count": 9
        }
      ]
    },
    {
      "cell_type": "code",
      "metadata": {
        "id": "qWHb3pINBN7G"
      },
      "source": [
        "import pickle\n",
        "pickle.dump(clf,open('img_model.p','wb'))"
      ],
      "execution_count": 10,
      "outputs": []
    },
    {
      "cell_type": "code",
      "metadata": {
        "id": "vTeoOXbVBc6s"
      },
      "source": [
        "model=pickle.load(open('img_model.p','rb'))"
      ],
      "execution_count": 11,
      "outputs": []
    },
    {
      "cell_type": "code",
      "metadata": {
        "id": "xrGnYJyRrb9a",
        "colab": {
          "base_uri": "https://localhost:8080/",
          "height": 322
        },
        "outputId": "7e17e0d6-51d8-4e89-a1e3-7ba65dc6dcb8"
      },
      "source": [
        "flat_data=[]\n",
        "url = input('Enter the URL ')\n",
        "img = imread(url)\n",
        "img_resize=resize(img,(150,150,3))\n",
        "flat_data.append(img_resize.flatten())\n",
        "flat_data=np.array(flat_data)\n",
        "print(img.shape)\n",
        "plt.imshow(img_resize)\n",
        "y_out=model.predict(flat_data)\n",
        "y_out= categories[y_out[0]] \n",
        "print(f'Predicted Output:{y_out}')"
      ],
      "execution_count": 12,
      "outputs": [
        {
          "output_type": "stream",
          "text": [
            "Enter the URL https://encrypted-tbn0.gstatic.com/images?q=tbn:ANd9GcQT4scEO_e5VSIps9XMjZ4ck9zrqjBEFBH3pQ&usqp=CAU\n",
            "(213, 236, 3)\n",
            "Predicted Output:elephant\n"
          ],
          "name": "stdout"
        },
        {
          "output_type": "display_data",
          "data": {
            "image/png": "[encoded data removed]",
            "text/plain": [
              "<Figure size 432x288 with 1 Axes>"
            ]
          },
          "metadata": {
            "tags": [],
            "needs_background": "light"
          }
        }
      ]
    },
    {
      "cell_type": "code",
      "metadata": {
        "id": "MjLfekjjDckh",
        "colab": {
          "base_uri": "https://localhost:8080/"
        },
        "outputId": "7801b7c2-e087-4c27-dc05-6c24df36435a"
      },
      "source": [
        "!pip install streamlit --quiet\n",
        "!pip install pyngrok==4.1.1 --quiet\n",
        "from pyngrok import ngrok"
      ],
      "execution_count": 13,
      "outputs": [
        {
          "output_type": "stream",
          "text": [
            "\u001b[K     |████████████████████████████████| 8.2MB 15.0MB/s \n",
            "\u001b[K     |████████████████████████████████| 174kB 43.8MB/s \n",
            "\u001b[K     |████████████████████████████████| 4.2MB 27.7MB/s \n",
            "\u001b[K     |████████████████████████████████| 81kB 9.0MB/s \n",
            "\u001b[K     |████████████████████████████████| 112kB 42.3MB/s \n",
            "\u001b[K     |████████████████████████████████| 71kB 8.6MB/s \n",
            "\u001b[K     |████████████████████████████████| 122kB 40.5MB/s \n",
            "\u001b[?25h  Building wheel for blinker (setup.py) ... \u001b[?25l\u001b[?25hdone\n",
            "\u001b[31mERROR: google-colab 1.0.0 has requirement ipykernel~=4.10, but you'll have ipykernel 5.5.5 which is incompatible.\u001b[0m\n",
            "  Building wheel for pyngrok (setup.py) ... \u001b[?25l\u001b[?25hdone\n"
          ],
          "name": "stdout"
        }
      ]
    },
    {
      "cell_type": "code",
      "metadata": {
        "id": "n6oJ3MLsEPgV",
        "colab": {
          "base_uri": "https://localhost:8080/"
        },
        "outputId": "9e652c5d-fb85-4b67-8b9b-c91d035813b7"
      },
      "source": [
        "%%writefile app3.py\n",
        "import pickle\n",
        "import numpy as np\n",
        "import pandas as pd\n",
        "import matplotlib.pyplot as plt\n",
        "from skimage.io import imread\n",
        "from skimage.transform import resize\n",
        "from PIL import Image\n",
        "import streamlit as st\n",
        "st.title('Image classifier By Aalisha PAtro')\n",
        "\n",
        "u_file =  st.file_uploader('choose file', type='.jpg')\n",
        "\n",
        "model = pickle.load(open('img_model.p', 'rb'))\n",
        "\n",
        "if u_file is not None:\n",
        "  img = Image.open(u_file)\n",
        "  st.image(img , caption='processing')\n",
        "  if st.button('predict'):\n",
        "    categories = ['elephant','horse']\n",
        "    img = np.array(img)\n",
        "    flat_data=[]\n",
        "    img_resize=resize(img,(150,150,3))\n",
        "    flat_data.append(img_resize.flatten())\n",
        "    flat_data=np.array(flat_data)\n",
        "    print(img.shape)\n",
        "    plt.imshow(img_resize)\n",
        "    y_out=model.predict(flat_data)\n",
        "    y_out= categories[y_out[0]] \n",
        "    st.title(f'Predicted Output:{y_out}')\n",
        "    \n",
        "\n",
        "\n",
        "\n",
        "\n",
        "\n",
        "\n"
      ],
      "execution_count": 26,
      "outputs": [
        {
          "output_type": "stream",
          "text": [
            "Overwriting app3.py\n"
          ],
          "name": "stdout"
        }
      ]
    },
    {
      "cell_type": "code",
      "metadata": {
        "colab": {
          "base_uri": "https://localhost:8080/"
        },
        "id": "WGFFR8_mEmFQ",
        "outputId": "a363ccef-ae7c-4d90-bf54-ff3e12d7b9bb"
      },
      "source": [
        "!nohup streamlit run app3.py &\n",
        "url = ngrok.connect(port='8501')\n",
        "print(url)"
      ],
      "execution_count": 15,
      "outputs": [
        {
          "output_type": "stream",
          "text": [
            "nohup: appending output to 'nohup.out'\n",
            "http://9e4c598fd751.ngrok.io\n"
          ],
          "name": "stdout"
        }
      ]
    }
  ]
}